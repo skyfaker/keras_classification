{
 "cells": [
  {
   "cell_type": "code",
   "execution_count": 1,
   "id": "willing-section",
   "metadata": {},
   "outputs": [],
   "source": [
    "import tensorflow as tf\n",
    "from tensorflow.keras.preprocessing.image import ImageDataGenerator\n",
    "from tensorflow.keras.models import Sequential\n",
    "from tensorflow.keras.layers import Conv2D, MaxPooling2D\n",
    "from tensorflow.keras.layers import Activation, Dropout, Flatten, Dense\n",
    "from tensorflow.keras import backend as K\n",
    "from tensorflow.keras.mixed_precision import experimental as mixed_precision\n"
   ]
  },
  {
   "cell_type": "code",
   "execution_count": 2,
   "id": "global-peter",
   "metadata": {},
   "outputs": [
    {
     "name": "stdout",
     "output_type": "stream",
     "text": [
      "WARNING:tensorflow:Mixed precision compatibility check (mixed_float16): WARNING\n",
      "Your GPU may run slowly with dtype policy mixed_float16 because it does not have compute capability of at least 7.0. Your GPU:\n",
      "  GeForce GTX 1080 Ti, compute capability 6.1\n",
      "See https://developer.nvidia.com/cuda-gpus for a list of GPUs and their compute capabilities.\n",
      "If you will use compatible GPU(s) not attached to this host, e.g. by running a multi-worker model, you can ignore this warning. This message will only be logged once\n",
      "WARNING:tensorflow:From /environment/python/versions/miniconda3-4.7.12/lib/python3.7/site-packages/tensorflow/python/keras/mixed_precision/loss_scale.py:51: DynamicLossScale.__init__ (from tensorflow.python.training.experimental.loss_scale) is deprecated and will be removed in a future version.\n",
      "Instructions for updating:\n",
      "Use tf.keras.mixed_precision.LossScaleOptimizer instead. LossScaleOptimizer now has all the functionality of DynamicLossScale\n"
     ]
    }
   ],
   "source": [
    "policy = mixed_precision.Policy('mixed_float16')\n",
    "mixed_precision.set_policy(policy)\n"
   ]
  },
  {
   "cell_type": "code",
   "execution_count": 13,
   "id": "fluid-balance",
   "metadata": {},
   "outputs": [],
   "source": [
    "img_width, img_height = 100, 100\n",
    "\n",
    "train_data_dir = 'data/img/trainData'\n",
    "val_data_dir = 'data/img/valData'\n",
    "test_data_dir = 'data/img/testData'\n"
   ]
  },
  {
   "cell_type": "code",
   "execution_count": 14,
   "id": "measured-settlement",
   "metadata": {},
   "outputs": [
    {
     "name": "stdout",
     "output_type": "stream",
     "text": [
      "89992\n",
      "10009\n",
      "20000\n"
     ]
    }
   ],
   "source": [
    "import os \n",
    "print(sum([len(os.listdir(os.path.join(train_data_dir, path))) for path in os.listdir(train_data_dir)]))\n",
    "print(sum([len(os.listdir(os.path.join(val_data_dir, path))) for path in os.listdir(val_data_dir)]))\n",
    "print(sum([len(os.listdir(test_data_dir))]))"
   ]
  },
  {
   "cell_type": "code",
   "execution_count": null,
   "id": "patent-toner",
   "metadata": {},
   "outputs": [],
   "source": []
  },
  {
   "cell_type": "code",
   "execution_count": 15,
   "id": "secure-madagascar",
   "metadata": {},
   "outputs": [],
   "source": [
    "\n",
    "nb_train_samples = 89992\n",
    "nb_validation_samples = 10009\n",
    "\n",
    "if K.image_data_format() == 'channels_first':\n",
    "    input_shape = (3, img_width, img_height)\n",
    "else:\n",
    "    input_shape = (img_width, img_height, 3)"
   ]
  },
  {
   "cell_type": "markdown",
   "id": "criminal-swing",
   "metadata": {},
   "source": [
    "## data"
   ]
  },
  {
   "cell_type": "code",
   "execution_count": 16,
   "id": "rural-printing",
   "metadata": {},
   "outputs": [],
   "source": [
    "train_datagen = ImageDataGenerator(\n",
    "    rescale=1. / 255,\n",
    "    shear_range=0.2,\n",
    "    zoom_range=0.1,\n",
    "    horizontal_flip=False)"
   ]
  },
  {
   "cell_type": "code",
   "execution_count": 17,
   "id": "sweet-newark",
   "metadata": {},
   "outputs": [],
   "source": [
    "test_datagen = ImageDataGenerator(rescale=1. / 255)\n"
   ]
  },
  {
   "cell_type": "code",
   "execution_count": 18,
   "id": "beginning-civilian",
   "metadata": {},
   "outputs": [
    {
     "name": "stdout",
     "output_type": "stream",
     "text": [
      "Found 89992 images belonging to 4 classes.\n"
     ]
    }
   ],
   "source": [
    "train_generator = train_datagen.flow_from_directory(\n",
    "    train_data_dir,\n",
    "    target_size=(img_width, img_height),\n",
    "    batch_size=batch_size,\n",
    "    class_mode='categorical')\n"
   ]
  },
  {
   "cell_type": "code",
   "execution_count": 19,
   "id": "separate-feelings",
   "metadata": {},
   "outputs": [
    {
     "name": "stdout",
     "output_type": "stream",
     "text": [
      "Found 10009 images belonging to 4 classes.\n"
     ]
    }
   ],
   "source": [
    "validation_generator = test_datagen.flow_from_directory(\n",
    "    val_data_dir,\n",
    "    target_size=(img_width, img_height),\n",
    "    batch_size=batch_size,\n",
    "    class_mode='categorical')"
   ]
  },
  {
   "cell_type": "markdown",
   "id": "understood-habitat",
   "metadata": {},
   "source": [
    "## model"
   ]
  },
  {
   "cell_type": "code",
   "execution_count": 22,
   "id": "resistant-ghost",
   "metadata": {},
   "outputs": [],
   "source": [
    "model = Sequential()\n",
    "model.add(Conv2D(32, (3, 3), input_shape=input_shape))\n",
    "model.add(Activation('relu'))\n",
    "model.add(MaxPooling2D(pool_size=(2, 2)))\n",
    "\n",
    "model.add(Conv2D(32, (3, 3)))\n",
    "model.add(Activation('relu'))\n",
    "model.add(MaxPooling2D(pool_size=(2, 2)))\n",
    "\n",
    "model.add(Conv2D(64, (3, 3)))\n",
    "model.add(Activation('relu'))\n",
    "model.add(MaxPooling2D(pool_size=(2, 2)))\n",
    "\n",
    "model.add(Flatten())\n",
    "model.add(Dense(64))\n",
    "model.add(Activation('relu'))\n",
    "model.add(Dropout(0.5))\n",
    "model.add(Dense(4))\n",
    "model.add(Activation('softmax',dtype='float32'))\n",
    "\n",
    "# outputs = layers.Activation('softmax', dtype='float32', name='predictions')(x)"
   ]
  },
  {
   "cell_type": "code",
   "execution_count": 23,
   "id": "comic-rouge",
   "metadata": {},
   "outputs": [
    {
     "name": "stdout",
     "output_type": "stream",
     "text": [
      "Model: \"sequential_1\"\n",
      "_________________________________________________________________\n",
      "Layer (type)                 Output Shape              Param #   \n",
      "=================================================================\n",
      "conv2d_3 (Conv2D)            (None, 98, 98, 32)        896       \n",
      "_________________________________________________________________\n",
      "activation_5 (Activation)    (None, 98, 98, 32)        0         \n",
      "_________________________________________________________________\n",
      "max_pooling2d_3 (MaxPooling2 (None, 49, 49, 32)        0         \n",
      "_________________________________________________________________\n",
      "conv2d_4 (Conv2D)            (None, 47, 47, 32)        9248      \n",
      "_________________________________________________________________\n",
      "activation_6 (Activation)    (None, 47, 47, 32)        0         \n",
      "_________________________________________________________________\n",
      "max_pooling2d_4 (MaxPooling2 (None, 23, 23, 32)        0         \n",
      "_________________________________________________________________\n",
      "conv2d_5 (Conv2D)            (None, 21, 21, 64)        18496     \n",
      "_________________________________________________________________\n",
      "activation_7 (Activation)    (None, 21, 21, 64)        0         \n",
      "_________________________________________________________________\n",
      "max_pooling2d_5 (MaxPooling2 (None, 10, 10, 64)        0         \n",
      "_________________________________________________________________\n",
      "flatten_1 (Flatten)          (None, 6400)              0         \n",
      "_________________________________________________________________\n",
      "dense_2 (Dense)              (None, 64)                409664    \n",
      "_________________________________________________________________\n",
      "activation_8 (Activation)    (None, 64)                0         \n",
      "_________________________________________________________________\n",
      "dropout_1 (Dropout)          (None, 64)                0         \n",
      "_________________________________________________________________\n",
      "dense_3 (Dense)              (None, 4)                 260       \n",
      "_________________________________________________________________\n",
      "activation_9 (Activation)    (None, 4)                 0         \n",
      "=================================================================\n",
      "Total params: 438,564\n",
      "Trainable params: 438,564\n",
      "Non-trainable params: 0\n",
      "_________________________________________________________________\n"
     ]
    }
   ],
   "source": [
    "model.summary()"
   ]
  },
  {
   "cell_type": "code",
   "execution_count": 25,
   "id": "subtle-tribe",
   "metadata": {},
   "outputs": [
    {
     "name": "stdout",
     "output_type": "stream",
     "text": [
      "WARNING:tensorflow:tf.keras.mixed_precision.experimental.LossScaleOptimizer is deprecated. Please use tf.keras.mixed_precision.LossScaleOptimizer instead. Note that the non-experimental LossScaleOptimizer does not take a DynamicLossScale but instead takes the dynamic configuration directly in the constructor. For example:\n",
      "  opt = tf.keras.mixed_precision.LossScaleOptimizer(opt)\n",
      "\n"
     ]
    }
   ],
   "source": [
    "model.compile(loss='categorical_crossentropy',\n",
    "              optimizer='adam',\n",
    "              metrics=['accuracy'])\n"
   ]
  },
  {
   "cell_type": "code",
   "execution_count": 27,
   "id": "limited-ensemble",
   "metadata": {},
   "outputs": [],
   "source": [
    "epochs = 20\n",
    "batch_size = 64"
   ]
  },
  {
   "cell_type": "code",
   "execution_count": 28,
   "id": "alternate-threat",
   "metadata": {},
   "outputs": [
    {
     "name": "stderr",
     "output_type": "stream",
     "text": [
      "/environment/python/versions/miniconda3-4.7.12/lib/python3.7/site-packages/tensorflow/python/keras/engine/training.py:1940: UserWarning: `Model.fit_generator` is deprecated and will be removed in a future version. Please use `Model.fit`, which supports generators.\n",
      "  warnings.warn('`Model.fit_generator` is deprecated and '\n"
     ]
    },
    {
     "name": "stdout",
     "output_type": "stream",
     "text": [
      "Epoch 1/20\n",
      "1406/1406 [==============================] - 106s 76ms/step - loss: 0.2160 - accuracy: 0.9335 - val_loss: 0.1366 - val_accuracy: 0.9551\n",
      "Epoch 2/20\n",
      "1406/1406 [==============================] - 106s 76ms/step - loss: 0.1792 - accuracy: 0.9408 - val_loss: 0.1179 - val_accuracy: 0.9655\n",
      "Epoch 3/20\n",
      "1406/1406 [==============================] - 106s 76ms/step - loss: 0.1638 - accuracy: 0.9502 - val_loss: 0.1047 - val_accuracy: 0.9655\n",
      "Epoch 4/20\n",
      "1406/1406 [==============================] - 106s 76ms/step - loss: 0.1518 - accuracy: 0.9532 - val_loss: 0.0941 - val_accuracy: 0.9700\n",
      "Epoch 5/20\n",
      "1406/1406 [==============================] - 106s 76ms/step - loss: 0.1384 - accuracy: 0.9580 - val_loss: 0.0855 - val_accuracy: 0.9708\n",
      "Epoch 6/20\n",
      "1406/1406 [==============================] - 106s 76ms/step - loss: 0.1303 - accuracy: 0.9580 - val_loss: 0.0708 - val_accuracy: 0.9792\n",
      "Epoch 7/20\n",
      "1406/1406 [==============================] - 106s 75ms/step - loss: 0.1183 - accuracy: 0.9614 - val_loss: 0.0679 - val_accuracy: 0.9740\n",
      "Epoch 8/20\n",
      "1406/1406 [==============================] - 106s 76ms/step - loss: 0.1174 - accuracy: 0.9642 - val_loss: 0.0752 - val_accuracy: 0.9788\n",
      "Epoch 9/20\n",
      "1406/1406 [==============================] - 106s 76ms/step - loss: 0.1181 - accuracy: 0.9616 - val_loss: 0.0971 - val_accuracy: 0.9760\n",
      "Epoch 10/20\n",
      "1406/1406 [==============================] - 106s 75ms/step - loss: 0.1108 - accuracy: 0.9655 - val_loss: 0.0935 - val_accuracy: 0.9692\n",
      "Epoch 11/20\n",
      "1406/1406 [==============================] - 106s 76ms/step - loss: 0.1057 - accuracy: 0.9673 - val_loss: 0.0806 - val_accuracy: 0.9740\n",
      "Epoch 12/20\n",
      "1406/1406 [==============================] - 106s 75ms/step - loss: 0.1052 - accuracy: 0.9671 - val_loss: 0.0771 - val_accuracy: 0.9756\n",
      "Epoch 13/20\n",
      "1406/1406 [==============================] - 106s 75ms/step - loss: 0.1008 - accuracy: 0.9695 - val_loss: 0.0683 - val_accuracy: 0.9776\n",
      "Epoch 14/20\n",
      "1406/1406 [==============================] - 106s 75ms/step - loss: 0.0944 - accuracy: 0.9698 - val_loss: 0.0726 - val_accuracy: 0.9780\n",
      "Epoch 15/20\n",
      "1406/1406 [==============================] - 106s 76ms/step - loss: 0.1040 - accuracy: 0.9679 - val_loss: 0.0895 - val_accuracy: 0.9736\n",
      "Epoch 16/20\n",
      "1406/1406 [==============================] - 106s 76ms/step - loss: 0.0923 - accuracy: 0.9722 - val_loss: 0.0726 - val_accuracy: 0.9764\n",
      "Epoch 17/20\n",
      "1406/1406 [==============================] - 106s 76ms/step - loss: 0.0938 - accuracy: 0.9712 - val_loss: 0.0762 - val_accuracy: 0.9800\n",
      "Epoch 18/20\n",
      "1406/1406 [==============================] - 106s 75ms/step - loss: 0.0885 - accuracy: 0.9724 - val_loss: 0.0829 - val_accuracy: 0.9756\n",
      "Epoch 19/20\n",
      "1406/1406 [==============================] - 106s 75ms/step - loss: 0.0894 - accuracy: 0.9724 - val_loss: 0.0738 - val_accuracy: 0.9804\n",
      "Epoch 20/20\n",
      "1406/1406 [==============================] - 106s 76ms/step - loss: 0.0876 - accuracy: 0.9725 - val_loss: 0.0840 - val_accuracy: 0.9760\n"
     ]
    },
    {
     "data": {
      "text/plain": [
       "<tensorflow.python.keras.callbacks.History at 0x7f8a8405ed90>"
      ]
     },
     "execution_count": 28,
     "metadata": {},
     "output_type": "execute_result"
    }
   ],
   "source": [
    "model.fit_generator(\n",
    "    train_generator,\n",
    "    steps_per_epoch=nb_train_samples // batch_size,\n",
    "    epochs=epochs,\n",
    "    validation_data=validation_generator,\n",
    "    validation_steps=nb_validation_samples // batch_size)"
   ]
  },
  {
   "cell_type": "code",
   "execution_count": null,
   "id": "indie-reverse",
   "metadata": {},
   "outputs": [],
   "source": []
  }
 ],
 "metadata": {
  "kernelspec": {
   "display_name": "base",
   "language": "python",
   "name": "base"
  },
  "language_info": {
   "codemirror_mode": {
    "name": "ipython",
    "version": 3
   },
   "file_extension": ".py",
   "mimetype": "text/x-python",
   "name": "python",
   "nbconvert_exporter": "python",
   "pygments_lexer": "ipython3",
   "version": "3.7.4"
  }
 },
 "nbformat": 4,
 "nbformat_minor": 5
}
